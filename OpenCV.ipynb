{
 "cells": [
  {
   "cell_type": "code",
   "execution_count": null,
   "metadata": {},
   "outputs": [],
   "source": []
  },
  {
   "cell_type": "code",
   "execution_count": 1,
   "metadata": {},
   "outputs": [],
   "source": [
    "import cv2"
   ]
  },
  {
   "cell_type": "code",
   "execution_count": 2,
   "metadata": {},
   "outputs": [],
   "source": [
    "img=cv2.imread(\"sachine2.webp\")\n",
    "\n",
    "cv2.imshow(\"Image\",img)\n",
    "cv2.waitKey()\n",
    "cv2.destroyWindow(\"Image\")"
   ]
  },
  {
   "cell_type": "code",
   "execution_count": null,
   "metadata": {},
   "outputs": [
    {
     "name": "stdout",
     "output_type": "stream",
     "text": [
      "[[[107 119 124]\n",
      "  [107 119 124]\n",
      "  [107 119 124]\n",
      "  ...\n",
      "  [101 117 126]\n",
      "  [101 117 126]\n",
      "  [101 117 126]]\n",
      "\n",
      " [[107 119 124]\n",
      "  [107 119 124]\n",
      "  [107 119 124]\n",
      "  ...\n",
      "  [101 117 126]\n",
      "  [101 117 126]\n",
      "  [101 117 126]]\n",
      "\n",
      " [[107 119 124]\n",
      "  [107 119 124]\n",
      "  [107 119 124]\n",
      "  ...\n",
      "  [101 117 126]\n",
      "  [101 117 126]\n",
      "  [101 117 126]]\n",
      "\n",
      " ...\n",
      "\n",
      " [[108 120 132]\n",
      "  [108 120 132]\n",
      "  [108 120 132]\n",
      "  ...\n",
      "  [114 126 131]\n",
      "  [114 126 131]\n",
      "  [114 126 131]]\n",
      "\n",
      " [[108 120 132]\n",
      "  [108 120 132]\n",
      "  [108 120 132]\n",
      "  ...\n",
      "  [114 126 131]\n",
      "  [114 126 131]\n",
      "  [114 126 131]]\n",
      "\n",
      " [[108 120 132]\n",
      "  [108 120 132]\n",
      "  [108 120 132]\n",
      "  ...\n",
      "  [114 126 131]\n",
      "  [114 126 131]\n",
      "  [114 126 131]]]\n"
     ]
    }
   ],
   "source": [
    "img=cv2.imread(\"sachine2.webp\")\n",
    "print(img)"
   ]
  },
  {
   "cell_type": "code",
   "execution_count": 3,
   "metadata": {},
   "outputs": [
    {
     "data": {
      "text/plain": [
       "110592"
      ]
     },
     "execution_count": 3,
     "metadata": {},
     "output_type": "execute_result"
    }
   ],
   "source": [
    "len(img.flatten())"
   ]
  },
  {
   "cell_type": "code",
   "execution_count": 4,
   "metadata": {},
   "outputs": [],
   "source": [
    "import cv2\n",
    "img=cv2.imread(\"sachine2.webp\")\n",
    "cv2.imshow(\"Image\",img)\n",
    "cv2.waitKey()\n",
    "cv2.destroyWindow(\"Image\")"
   ]
  },
  {
   "cell_type": "code",
   "execution_count": 5,
   "metadata": {},
   "outputs": [],
   "source": [
    "img=cv2.imread(\"sachine2.webp\",0)\n",
    "cv2.imshow(\"window2\",img)\n",
    "cv2.waitKey()\n",
    "cv2.destroyWindow(\"window2\")\n"
   ]
  },
  {
   "cell_type": "code",
   "execution_count": 6,
   "metadata": {},
   "outputs": [],
   "source": [
    "img=cv2.imread(\"sachine2.webp\",1)\n",
    "cv2.imshow(\"window2\",img)\n",
    "cv2.waitKey()\n",
    "cv2.destroyWindow(\"window2\")\n"
   ]
  },
  {
   "cell_type": "code",
   "execution_count": 7,
   "metadata": {},
   "outputs": [],
   "source": [
    "img=cv2.imread(\"sachine2.webp\")\n",
    "cv2.imshow(\"window2\",img)\n",
    "cv2.waitKey()\n",
    "cv2.destroyWindow(\"window2\")\n"
   ]
  },
  {
   "cell_type": "code",
   "execution_count": 8,
   "metadata": {},
   "outputs": [],
   "source": [
    "img=cv2.imread(\"sachine2.webp\")\n",
    "img2=cv2.cvtColor(img,cv2.COLOR_BGR2GRAY)\n",
    "cv2.imshow(\"window2\",img2)\n",
    "cv2.waitKey()\n",
    "cv2.destroyWindow(\"window2\")\n"
   ]
  },
  {
   "cell_type": "code",
   "execution_count": null,
   "metadata": {},
   "outputs": [
    {
     "ename": "",
     "evalue": "",
     "output_type": "error",
     "traceback": [
      "\u001b[1;31mThe Kernel crashed while executing code in the the current cell or a previous cell. Please review the code in the cell(s) to identify a possible cause of the failure. Click <a href='https://aka.ms/vscodeJupyterKernelCrash'>here</a> for more info. View Jupyter <a href='command:jupyter.viewOutput'>log</a> for further details."
     ]
    }
   ],
   "source": [
    "# img=cv2.imread(\"sachine2.webp\")\n",
    "# img2=cv2.cvtColor(img,cv2.COLOR_BGR2GRAY)\n",
    "# cv2.imshow(\"window2\",img2)\n",
    "# cv2.imshow(\"window3\",img)\n",
    "# cv2.waitKey()\n",
    "# cv2.destroyWindow(\"window2\")\n"
   ]
  },
  {
   "cell_type": "code",
   "execution_count": 11,
   "metadata": {},
   "outputs": [],
   "source": [
    "img=cv2.imread(\"sachine2.webp\")\n",
    "img2=cv2.cvtColor(img,cv2.COLOR_BGR2GRAY)\n",
    "cv2.imshow(\"window2\",img2)\n",
    "cv2.imshow(\"window3\",img)\n",
    "cv2.waitKey()\n",
    "cv2.destroyAllWindows()\n"
   ]
  },
  {
   "cell_type": "code",
   "execution_count": 14,
   "metadata": {},
   "outputs": [],
   "source": [
    "img=cv2.imread(\"sachine2.webp\")\n",
    "img2=cv2.resize(img,(300,300))\n",
    "cv2.imshow(\"window2\",img2)\n",
    "cv2.imshow(\"window3\",img)\n",
    "cv2.waitKey()\n",
    "cv2.destroyAllWindows()"
   ]
  },
  {
   "cell_type": "code",
   "execution_count": 15,
   "metadata": {},
   "outputs": [],
   "source": [
    "img=cv2.imread(\"sachine2.webp\")\n",
    "img2=cv2.resize(img,(400,300))\n",
    "cv2.imshow(\"window2\",img2)\n",
    "cv2.imshow(\"window3\",img)\n",
    "cv2.waitKey()\n",
    "cv2.destroyAllWindows()"
   ]
  },
  {
   "cell_type": "code",
   "execution_count": 23,
   "metadata": {},
   "outputs": [],
   "source": [
    "img=cv2.imread(\"sachine2.webp\")\n",
    "img=cv2.blur(img,ksize=(10,100))\n",
    "cv2.imshow(\"window3\",img)\n",
    "cv2.waitKey()\n",
    "cv2.destroyAllWindows()"
   ]
  },
  {
   "cell_type": "code",
   "execution_count": 26,
   "metadata": {},
   "outputs": [],
   "source": [
    "img=cv2.imread(\"sachine2.webp\")\n",
    "img=cv2.convertScaleAbs(img,alpha=1,beta=100)\n",
    "cv2.imshow(\"window3\",img)\n",
    "cv2.waitKey()\n",
    "cv2.destroyAllWindows()"
   ]
  },
  {
   "cell_type": "code",
   "execution_count": 28,
   "metadata": {},
   "outputs": [],
   "source": [
    "img=cv2.imread(\"sachine2.webp\")\n",
    "img2=cv2.flip(img,0)\n",
    "cv2.imshow(\"window2\",img)\n",
    "cv2.imshow(\"window3\",img2)\n",
    "cv2.waitKey()\n",
    "cv2.destroyAllWindows()"
   ]
  },
  {
   "cell_type": "code",
   "execution_count": 29,
   "metadata": {},
   "outputs": [],
   "source": [
    "img=cv2.imread(\"sachine2.webp\")\n",
    "img2=cv2.flip(img,-1)\n",
    "cv2.imshow(\"window2\",img)\n",
    "cv2.imshow(\"window3\",img2)\n",
    "cv2.waitKey()\n",
    "cv2.destroyAllWindows()"
   ]
  },
  {
   "cell_type": "code",
   "execution_count": 33,
   "metadata": {},
   "outputs": [],
   "source": [
    "img=cv2.imread(\"sachine2.webp\")\n",
    "img3=cv2.flip(img,-1)\n",
    "cv2.imshow(\"window2\",img)\n",
    "cv2.imshow(\"window4\",img3)\n",
    "cv2.waitKey()\n",
    "cv2.destroyAllWindows()"
   ]
  },
  {
   "cell_type": "code",
   "execution_count": 36,
   "metadata": {},
   "outputs": [],
   "source": [
    "img=cv2.imread(\"sachine2.webp\")\n",
    "blue,green,red=cv2.split(img)\n",
    "cv2.imshow(\"blue\",blue)\n",
    "cv2.imshow(\"green\",green)\n",
    "cv2.imshow(\"red\",red)\n",
    "cv2.waitKey(2000)\n",
    "cv2.destroyAllWindows()"
   ]
  },
  {
   "cell_type": "code",
   "execution_count": 39,
   "metadata": {},
   "outputs": [
    {
     "name": "stdout",
     "output_type": "stream",
     "text": [
      "13\n"
     ]
    }
   ],
   "source": [
    "img=cv2.imread(\"sachine2.webp\")\n",
    "blue,green,red=cv2.split(img)\n",
    "cv2.imshow(\"blue\",blue)\n",
    "cv2.imshow(\"green\",green)\n",
    "cv2.imshow(\"red\",red)\n",
    "key=cv2.waitKey()\n",
    "print(key)\n",
    "cv2.destroyAllWindows()"
   ]
  },
  {
   "cell_type": "code",
   "execution_count": 52,
   "metadata": {},
   "outputs": [],
   "source": [
    "img=cv2.imread(\"sachine2.webp\")\n",
    "cv2.putText(img,\"Sachine\",(10,20),cv2.FONT_HERSHEY_SIMPLEX,2,(0,0,255),10)\n",
    "cv2.rectangle(img,(40,40),(150,170),(0,255,0),2)\n",
    "cv2.imshow(\"wind\",img)\n",
    "cv2.waitKey()\n",
    "cv2.destroyAllWindows()"
   ]
  },
  {
   "cell_type": "code",
   "execution_count": 15,
   "metadata": {},
   "outputs": [],
   "source": [
    "import cv2\n",
    "img=cv2.imread(\"sachine2.webp\")\n",
    "cv2.putText(img,\"Sachine\",(10,20),cv2.FONT_HERSHEY_SIMPLEX,2,(0,0,255),10)\n",
    "cv2.rectangle(img,(40,40),(150,170),(0,255,0),2)\n",
    "cv2.imshow(\"wind\",img)\n",
    "cv2.waitKey()\n",
    "cv2.destroyAllWindows()"
   ]
  },
  {
   "cell_type": "code",
   "execution_count": 6,
   "metadata": {},
   "outputs": [
    {
     "ename": "ValueError",
     "evalue": "The truth value of an array with more than one element is ambiguous. Use a.any() or a.all()",
     "output_type": "error",
     "traceback": [
      "\u001b[1;31m---------------------------------------------------------------------------\u001b[0m",
      "\u001b[1;31mValueError\u001b[0m                                Traceback (most recent call last)",
      "Cell \u001b[1;32mIn[6], line 7\u001b[0m\n\u001b[0;32m      5\u001b[0m \u001b[39mwhile\u001b[39;00m \u001b[39mTrue\u001b[39;00m:\n\u001b[0;32m      6\u001b[0m     img,flag\u001b[39m=\u001b[39mvideo\u001b[39m.\u001b[39mread()  \u001b[39m# if img exist then flag value will be True else flag value will be false\u001b[39;00m\n\u001b[1;32m----> 7\u001b[0m     \u001b[39mif\u001b[39;00m flag\u001b[39m==\u001b[39m\u001b[39mFalse\u001b[39;00m:\n\u001b[0;32m      8\u001b[0m         \u001b[39mbreak\u001b[39;00m\n\u001b[0;32m      9\u001b[0m     Model_face\u001b[39m=\u001b[39mcv2\u001b[39m.\u001b[39mCascadeClassifier(\u001b[39m\"\u001b[39m\u001b[39mtrained model/haarcascade_frontalface_alt.xml\u001b[39m\u001b[39m\"\u001b[39m)\n",
      "\u001b[1;31mValueError\u001b[0m: The truth value of an array with more than one element is ambiguous. Use a.any() or a.all()"
     ]
    }
   ],
   "source": [
    "import cv2\n",
    "\n",
    "video=cv2.VideoCapture(0)\n",
    "\n",
    "while True:\n",
    "    img,flag=video.read()  # if img exist then flag value will be True else flag value will be false\n",
    "    if flag==False:\n",
    "        break\n",
    "    Model_face=cv2.CascadeClassifier(\"trained model/haarcascade_frontalface_alt.xml\")\n",
    "    Model_eye=cv2.CascadeClassifier(\"trained model\\haarcascade_eye.xml\")\n",
    "    img2=cv2.cvtColor(img,cv2.COLOR_BGR2GRAY)\n",
    "    face=Model_face.detectMultiScale(img2,minNeighbors=14)\n",
    "\n",
    "    for x,y,w,h in face:\n",
    "        cv2.rectangle(img,(x,y,w,h),(0,255,0),2)\n",
    "\n",
    "        img3=img2[y:y+h,x:x+w]\n",
    "        eye=Model_eye.detectMultiScale(img3)\n",
    "        for ex,ey,ew,eh in eye:\n",
    "            cv2.rectangle(img,(x+ex,y+ey,ew,eh),(0,255,0),2)\n",
    "\n",
    "    cv2.imshow(\"wind\",img)\n",
    "    cv2.waitKey()\n",
    "cv2.destroyAllWindows()\n",
    "video.release()\n",
    "\n",
    "\n"
   ]
  },
  {
   "cell_type": "code",
   "execution_count": 26,
   "metadata": {},
   "outputs": [
    {
     "data": {
      "text/plain": [
       "1254"
      ]
     },
     "execution_count": 26,
     "metadata": {},
     "output_type": "execute_result"
    }
   ],
   "source": [
    "len(img2[0])"
   ]
  },
  {
   "cell_type": "markdown",
   "metadata": {},
   "source": []
  },
  {
   "cell_type": "code",
   "execution_count": null,
   "metadata": {},
   "outputs": [],
   "source": []
  }
 ],
 "metadata": {
  "kernelspec": {
   "display_name": "Python 3",
   "language": "python",
   "name": "python3"
  },
  "language_info": {
   "codemirror_mode": {
    "name": "ipython",
    "version": 3
   },
   "file_extension": ".py",
   "mimetype": "text/x-python",
   "name": "python",
   "nbconvert_exporter": "python",
   "pygments_lexer": "ipython3",
   "version": "3.11.2"
  },
  "orig_nbformat": 4,
  "vscode": {
   "interpreter": {
    "hash": "47ba72d4fb05e28199db6c34b2c0ce05f7d0fccec695ef0642a96a8661cc57fd"
   }
  }
 },
 "nbformat": 4,
 "nbformat_minor": 2
}
