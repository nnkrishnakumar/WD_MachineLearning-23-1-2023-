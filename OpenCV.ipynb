{
 "cells": [
  {
   "cell_type": "code",
   "execution_count": null,
   "metadata": {},
   "outputs": [],
   "source": []
  },
  {
   "cell_type": "code",
   "execution_count": 1,
   "metadata": {},
   "outputs": [],
   "source": [
    "import cv2"
   ]
  },
  {
   "cell_type": "code",
   "execution_count": 2,
   "metadata": {},
   "outputs": [],
   "source": [
    "img=cv2.imread(\"sachine2.webp\")\n",
    "\n",
    "cv2.imshow(\"Image\",img)\n",
    "cv2.waitKey()\n",
    "cv2.destroyWindow(\"Image\")"
   ]
  },
  {
   "cell_type": "code",
   "execution_count": null,
   "metadata": {},
   "outputs": [
    {
     "name": "stdout",
     "output_type": "stream",
     "text": [
      "[[[107 119 124]\n",
      "  [107 119 124]\n",
      "  [107 119 124]\n",
      "  ...\n",
      "  [101 117 126]\n",
      "  [101 117 126]\n",
      "  [101 117 126]]\n",
      "\n",
      " [[107 119 124]\n",
      "  [107 119 124]\n",
      "  [107 119 124]\n",
      "  ...\n",
      "  [101 117 126]\n",
      "  [101 117 126]\n",
      "  [101 117 126]]\n",
      "\n",
      " [[107 119 124]\n",
      "  [107 119 124]\n",
      "  [107 119 124]\n",
      "  ...\n",
      "  [101 117 126]\n",
      "  [101 117 126]\n",
      "  [101 117 126]]\n",
      "\n",
      " ...\n",
      "\n",
      " [[108 120 132]\n",
      "  [108 120 132]\n",
      "  [108 120 132]\n",
      "  ...\n",
      "  [114 126 131]\n",
      "  [114 126 131]\n",
      "  [114 126 131]]\n",
      "\n",
      " [[108 120 132]\n",
      "  [108 120 132]\n",
      "  [108 120 132]\n",
      "  ...\n",
      "  [114 126 131]\n",
      "  [114 126 131]\n",
      "  [114 126 131]]\n",
      "\n",
      " [[108 120 132]\n",
      "  [108 120 132]\n",
      "  [108 120 132]\n",
      "  ...\n",
      "  [114 126 131]\n",
      "  [114 126 131]\n",
      "  [114 126 131]]]\n"
     ]
    }
   ],
   "source": [
    "img=cv2.imread(\"sachine2.webp\")\n",
    "print(img)"
   ]
  },
  {
   "cell_type": "code",
   "execution_count": 3,
   "metadata": {},
   "outputs": [
    {
     "data": {
      "text/plain": [
       "110592"
      ]
     },
     "execution_count": 3,
     "metadata": {},
     "output_type": "execute_result"
    }
   ],
   "source": [
    "len(img.flatten())"
   ]
  },
  {
   "cell_type": "code",
   "execution_count": 4,
   "metadata": {},
   "outputs": [],
   "source": [
    "import cv2\n",
    "img=cv2.imread(\"sachine2.webp\")\n",
    "cv2.imshow(\"Image\",img)\n",
    "cv2.waitKey()\n",
    "cv2.destroyWindow(\"Image\")"
   ]
  },
  {
   "cell_type": "code",
   "execution_count": 5,
   "metadata": {},
   "outputs": [],
   "source": [
    "img=cv2.imread(\"sachine2.webp\",0)\n",
    "cv2.imshow(\"window2\",img)\n",
    "cv2.waitKey()\n",
    "cv2.destroyWindow(\"window2\")\n"
   ]
  },
  {
   "cell_type": "code",
   "execution_count": 6,
   "metadata": {},
   "outputs": [],
   "source": [
    "img=cv2.imread(\"sachine2.webp\",1)\n",
    "cv2.imshow(\"window2\",img)\n",
    "cv2.waitKey()\n",
    "cv2.destroyWindow(\"window2\")\n"
   ]
  },
  {
   "cell_type": "code",
   "execution_count": 7,
   "metadata": {},
   "outputs": [],
   "source": [
    "img=cv2.imread(\"sachine2.webp\")\n",
    "cv2.imshow(\"window2\",img)\n",
    "cv2.waitKey()\n",
    "cv2.destroyWindow(\"window2\")\n"
   ]
  },
  {
   "cell_type": "code",
   "execution_count": 8,
   "metadata": {},
   "outputs": [],
   "source": [
    "img=cv2.imread(\"sachine2.webp\")\n",
    "img2=cv2.cvtColor(img,cv2.COLOR_BGR2GRAY)\n",
    "cv2.imshow(\"window2\",img2)\n",
    "cv2.waitKey()\n",
    "cv2.destroyWindow(\"window2\")\n"
   ]
  },
  {
   "cell_type": "code",
   "execution_count": null,
   "metadata": {},
   "outputs": [
    {
     "ename": "",
     "evalue": "",
     "output_type": "error",
     "traceback": [
      "\u001b[1;31mThe Kernel crashed while executing code in the the current cell or a previous cell. Please review the code in the cell(s) to identify a possible cause of the failure. Click <a href='https://aka.ms/vscodeJupyterKernelCrash'>here</a> for more info. View Jupyter <a href='command:jupyter.viewOutput'>log</a> for further details."
     ]
    }
   ],
   "source": [
    "# img=cv2.imread(\"sachine2.webp\")\n",
    "# img2=cv2.cvtColor(img,cv2.COLOR_BGR2GRAY)\n",
    "# cv2.imshow(\"window2\",img2)\n",
    "# cv2.imshow(\"window3\",img)\n",
    "# cv2.waitKey()\n",
    "# cv2.destroyWindow(\"window2\")\n"
   ]
  },
  {
   "cell_type": "code",
   "execution_count": 11,
   "metadata": {},
   "outputs": [],
   "source": [
    "img=cv2.imread(\"sachine2.webp\")\n",
    "img2=cv2.cvtColor(img,cv2.COLOR_BGR2GRAY)\n",
    "cv2.imshow(\"window2\",img2)\n",
    "cv2.imshow(\"window3\",img)\n",
    "cv2.waitKey()\n",
    "cv2.destroyAllWindows()\n"
   ]
  },
  {
   "cell_type": "code",
   "execution_count": 14,
   "metadata": {},
   "outputs": [],
   "source": [
    "img=cv2.imread(\"sachine2.webp\")\n",
    "img2=cv2.resize(img,(300,300))\n",
    "cv2.imshow(\"window2\",img2)\n",
    "cv2.imshow(\"window3\",img)\n",
    "cv2.waitKey()\n",
    "cv2.destroyAllWindows()"
   ]
  },
  {
   "cell_type": "code",
   "execution_count": 15,
   "metadata": {},
   "outputs": [],
   "source": [
    "img=cv2.imread(\"sachine2.webp\")\n",
    "img2=cv2.resize(img,(400,300))\n",
    "cv2.imshow(\"window2\",img2)\n",
    "cv2.imshow(\"window3\",img)\n",
    "cv2.waitKey()\n",
    "cv2.destroyAllWindows()"
   ]
  },
  {
   "cell_type": "code",
   "execution_count": 23,
   "metadata": {},
   "outputs": [],
   "source": [
    "img=cv2.imread(\"sachine2.webp\")\n",
    "img=cv2.blur(img,ksize=(10,100))\n",
    "cv2.imshow(\"window3\",img)\n",
    "cv2.waitKey()\n",
    "cv2.destroyAllWindows()"
   ]
  },
  {
   "cell_type": "code",
   "execution_count": 26,
   "metadata": {},
   "outputs": [],
   "source": [
    "img=cv2.imread(\"sachine2.webp\")\n",
    "img=cv2.convertScaleAbs(img,alpha=1,beta=100)\n",
    "cv2.imshow(\"window3\",img)\n",
    "cv2.waitKey()\n",
    "cv2.destroyAllWindows()"
   ]
  },
  {
   "cell_type": "code",
   "execution_count": 28,
   "metadata": {},
   "outputs": [],
   "source": [
    "img=cv2.imread(\"sachine2.webp\")\n",
    "img2=cv2.flip(img,0)\n",
    "cv2.imshow(\"window2\",img)\n",
    "cv2.imshow(\"window3\",img2)\n",
    "cv2.waitKey()\n",
    "cv2.destroyAllWindows()"
   ]
  },
  {
   "cell_type": "code",
   "execution_count": 29,
   "metadata": {},
   "outputs": [],
   "source": [
    "img=cv2.imread(\"sachine2.webp\")\n",
    "img2=cv2.flip(img,-1)\n",
    "cv2.imshow(\"window2\",img)\n",
    "cv2.imshow(\"window3\",img2)\n",
    "cv2.waitKey()\n",
    "cv2.destroyAllWindows()"
   ]
  },
  {
   "cell_type": "code",
   "execution_count": 33,
   "metadata": {},
   "outputs": [],
   "source": [
    "img=cv2.imread(\"sachine2.webp\")\n",
    "img3=cv2.flip(img,-1)\n",
    "cv2.imshow(\"window2\",img)\n",
    "cv2.imshow(\"window4\",img3)\n",
    "cv2.waitKey()\n",
    "cv2.destroyAllWindows()"
   ]
  },
  {
   "cell_type": "code",
   "execution_count": 36,
   "metadata": {},
   "outputs": [],
   "source": [
    "img=cv2.imread(\"sachine2.webp\")\n",
    "blue,green,red=cv2.split(img)\n",
    "cv2.imshow(\"blue\",blue)\n",
    "cv2.imshow(\"green\",green)\n",
    "cv2.imshow(\"red\",red)\n",
    "cv2.waitKey(2000)\n",
    "cv2.destroyAllWindows()"
   ]
  },
  {
   "cell_type": "code",
   "execution_count": 39,
   "metadata": {},
   "outputs": [
    {
     "name": "stdout",
     "output_type": "stream",
     "text": [
      "13\n"
     ]
    }
   ],
   "source": [
    "img=cv2.imread(\"sachine2.webp\")\n",
    "blue,green,red=cv2.split(img)\n",
    "cv2.imshow(\"blue\",blue)\n",
    "cv2.imshow(\"green\",green)\n",
    "cv2.imshow(\"red\",red)\n",
    "key=cv2.waitKey()\n",
    "print(key)\n",
    "cv2.destroyAllWindows()"
   ]
  },
  {
   "cell_type": "code",
   "execution_count": 52,
   "metadata": {},
   "outputs": [],
   "source": [
    "img=cv2.imread(\"sachine2.webp\")\n",
    "cv2.putText(img,\"Sachine\",(10,20),cv2.FONT_HERSHEY_SIMPLEX,2,(0,0,255),10)\n",
    "cv2.rectangle(img,(40,40),(150,170),(0,255,0),2)\n",
    "cv2.imshow(\"wind\",img)\n",
    "cv2.waitKey()\n",
    "cv2.destroyAllWindows()"
   ]
  },
  {
   "cell_type": "code",
   "execution_count": 15,
   "metadata": {},
   "outputs": [],
   "source": [
    "import cv2\n",
    "img=cv2.imread(\"sachine2.webp\")\n",
    "cv2.putText(img,\"Sachine\",(10,20),cv2.FONT_HERSHEY_SIMPLEX,2,(0,0,255),10)\n",
    "cv2.rectangle(img,(40,40),(150,170),(0,255,0),2)\n",
    "cv2.imshow(\"wind\",img)\n",
    "cv2.waitKey()\n",
    "cv2.destroyAllWindows()"
   ]
  },
  {
   "cell_type": "code",
   "execution_count": 26,
   "metadata": {},
   "outputs": [
    {
     "ename": "error",
     "evalue": "OpenCV(4.7.0) D:\\a\\opencv-python\\opencv-python\\opencv\\modules\\objdetect\\src\\cascadedetect.cpp:1689: error: (-215:Assertion failed) !empty() in function 'cv::CascadeClassifier::detectMultiScale'\n",
     "output_type": "error",
     "traceback": [
      "\u001b[1;31m---------------------------------------------------------------------------\u001b[0m",
      "\u001b[1;31merror\u001b[0m                                     Traceback (most recent call last)",
      "Cell \u001b[1;32mIn[26], line 4\u001b[0m\n\u001b[0;32m      2\u001b[0m img\u001b[39m=\u001b[39mcv2\u001b[39m.\u001b[39mimread(\u001b[39m\"\u001b[39m\u001b[39msachine2.webp\u001b[39m\u001b[39m\"\u001b[39m)\n\u001b[0;32m      3\u001b[0m img2\u001b[39m=\u001b[39mcv2\u001b[39m.\u001b[39mcvtColor(img,cv2\u001b[39m.\u001b[39mCOLOR_BGR2GRAY)\n\u001b[1;32m----> 4\u001b[0m face\u001b[39m=\u001b[39mModel_face\u001b[39m.\u001b[39;49mdetectMultiScale(img2)\n\u001b[0;32m      5\u001b[0m \u001b[39mfor\u001b[39;00m x,y,w,h \u001b[39min\u001b[39;00m face:\n\u001b[0;32m      6\u001b[0m     cv2\u001b[39m.\u001b[39mrectangle(img,(\u001b[39m40\u001b[39m,\u001b[39m40\u001b[39m),(\u001b[39m150\u001b[39m,\u001b[39m170\u001b[39m),(\u001b[39m0\u001b[39m,\u001b[39m255\u001b[39m,\u001b[39m0\u001b[39m),\u001b[39m2\u001b[39m)\n",
      "\u001b[1;31merror\u001b[0m: OpenCV(4.7.0) D:\\a\\opencv-python\\opencv-python\\opencv\\modules\\objdetect\\src\\cascadedetect.cpp:1689: error: (-215:Assertion failed) !empty() in function 'cv::CascadeClassifier::detectMultiScale'\n"
     ]
    }
   ],
   "source": [
    "Model_face=cv2.CascadeClassifier(\"trained model/haarcascade_frontalface_alt.xml\")\n",
    "img=cv2.imread(\"sachine2.webp\")\n",
    "img2=cv2.cvtColor(img,cv2.COLOR_BGR2GRAY)\n",
    "face=Model_face.detectMultiScale(img2)\n",
    "for x,y,w,h in face:\n",
    "    cv2.rectangle(img,(40,40),(150,170),(0,255,0),2)\n",
    "cv2.imshow(\"wind\",img)\n",
    "cv2.waitKey()\n",
    "cv2.destroyAllWindows()\n",
    "\n",
    "\n"
   ]
  },
  {
   "cell_type": "code",
   "execution_count": 11,
   "metadata": {},
   "outputs": [
    {
     "data": {
      "text/plain": [
       "192"
      ]
     },
     "execution_count": 11,
     "metadata": {},
     "output_type": "execute_result"
    }
   ],
   "source": [
    "len(img2[0])"
   ]
  },
  {
   "cell_type": "code",
   "execution_count": null,
   "metadata": {},
   "outputs": [],
   "source": []
  }
 ],
 "metadata": {
  "kernelspec": {
   "display_name": "Python 3",
   "language": "python",
   "name": "python3"
  },
  "language_info": {
   "codemirror_mode": {
    "name": "ipython",
    "version": 3
   },
   "file_extension": ".py",
   "mimetype": "text/x-python",
   "name": "python",
   "nbconvert_exporter": "python",
   "pygments_lexer": "ipython3",
   "version": "3.11.2"
  },
  "orig_nbformat": 4,
  "vscode": {
   "interpreter": {
    "hash": "47ba72d4fb05e28199db6c34b2c0ce05f7d0fccec695ef0642a96a8661cc57fd"
   }
  }
 },
 "nbformat": 4,
 "nbformat_minor": 2
}
